{
  "nbformat": 4,
  "nbformat_minor": 0,
  "metadata": {
    "colab": {
      "name": "SEOULBUSAN.ipynb",
      "provenance": [],
      "authorship_tag": "ABX9TyP1jJBB7CGhlXBusAZSaFQY",
      "include_colab_link": true
    },
    "kernelspec": {
      "name": "python3",
      "display_name": "Python 3"
    },
    "language_info": {
      "name": "python"
    }
  },
  "cells": [
    {
      "cell_type": "markdown",
      "metadata": {
        "id": "view-in-github",
        "colab_type": "text"
      },
      "source": [
        "<a href=\"https://colab.research.google.com/github/NamChangseok/airbnb-clone/blob/master/SEOULBUSAN.ipynb\" target=\"_parent\"><img src=\"https://colab.research.google.com/assets/colab-badge.svg\" alt=\"Open In Colab\"/></a>"
      ]
    },
    {
      "cell_type": "code",
      "execution_count": 3,
      "metadata": {
        "colab": {
          "base_uri": "https://localhost:8080/"
        },
        "id": "mH6EDLy9R_Fj",
        "outputId": "65d47f96-52cd-453d-baf2-42b9729f48a5"
      },
      "outputs": [
        {
          "output_type": "stream",
          "name": "stdout",
          "text": [
            "Collecting category_encoders\n",
            "  Downloading category_encoders-2.4.0-py2.py3-none-any.whl (86 kB)\n",
            "\u001b[?25l\r\u001b[K     |███▉                            | 10 kB 16.4 MB/s eta 0:00:01\r\u001b[K     |███████▋                        | 20 kB 22.3 MB/s eta 0:00:01\r\u001b[K     |███████████▍                    | 30 kB 26.9 MB/s eta 0:00:01\r\u001b[K     |███████████████▏                | 40 kB 31.4 MB/s eta 0:00:01\r\u001b[K     |███████████████████             | 51 kB 20.8 MB/s eta 0:00:01\r\u001b[K     |██████████████████████▊         | 61 kB 23.6 MB/s eta 0:00:01\r\u001b[K     |██████████████████████████▌     | 71 kB 23.6 MB/s eta 0:00:01\r\u001b[K     |██████████████████████████████▎ | 81 kB 21.2 MB/s eta 0:00:01\r\u001b[K     |████████████████████████████████| 86 kB 4.8 MB/s \n",
            "\u001b[?25hRequirement already satisfied: statsmodels>=0.9.0 in /usr/local/lib/python3.7/dist-packages (from category_encoders) (0.10.2)\n",
            "Requirement already satisfied: patsy>=0.5.1 in /usr/local/lib/python3.7/dist-packages (from category_encoders) (0.5.2)\n",
            "Requirement already satisfied: numpy>=1.14.0 in /usr/local/lib/python3.7/dist-packages (from category_encoders) (1.21.5)\n",
            "Requirement already satisfied: scikit-learn>=0.20.0 in /usr/local/lib/python3.7/dist-packages (from category_encoders) (1.0.2)\n",
            "Requirement already satisfied: pandas>=0.21.1 in /usr/local/lib/python3.7/dist-packages (from category_encoders) (1.3.5)\n",
            "Requirement already satisfied: scipy>=1.0.0 in /usr/local/lib/python3.7/dist-packages (from category_encoders) (1.4.1)\n",
            "Requirement already satisfied: python-dateutil>=2.7.3 in /usr/local/lib/python3.7/dist-packages (from pandas>=0.21.1->category_encoders) (2.8.2)\n",
            "Requirement already satisfied: pytz>=2017.3 in /usr/local/lib/python3.7/dist-packages (from pandas>=0.21.1->category_encoders) (2018.9)\n",
            "Requirement already satisfied: six in /usr/local/lib/python3.7/dist-packages (from patsy>=0.5.1->category_encoders) (1.15.0)\n",
            "Requirement already satisfied: threadpoolctl>=2.0.0 in /usr/local/lib/python3.7/dist-packages (from scikit-learn>=0.20.0->category_encoders) (3.1.0)\n",
            "Requirement already satisfied: joblib>=0.11 in /usr/local/lib/python3.7/dist-packages (from scikit-learn>=0.20.0->category_encoders) (1.1.0)\n",
            "Installing collected packages: category-encoders\n",
            "Successfully installed category-encoders-2.4.0\n",
            "Collecting shap\n",
            "  Downloading shap-0.40.0-cp37-cp37m-manylinux2010_x86_64.whl (564 kB)\n",
            "\u001b[K     |████████████████████████████████| 564 kB 25.6 MB/s \n",
            "\u001b[?25hRequirement already satisfied: pandas in /usr/local/lib/python3.7/dist-packages (from shap) (1.3.5)\n",
            "Requirement already satisfied: scikit-learn in /usr/local/lib/python3.7/dist-packages (from shap) (1.0.2)\n",
            "Requirement already satisfied: tqdm>4.25.0 in /usr/local/lib/python3.7/dist-packages (from shap) (4.63.0)\n",
            "Collecting slicer==0.0.7\n",
            "  Downloading slicer-0.0.7-py3-none-any.whl (14 kB)\n",
            "Requirement already satisfied: scipy in /usr/local/lib/python3.7/dist-packages (from shap) (1.4.1)\n",
            "Requirement already satisfied: numba in /usr/local/lib/python3.7/dist-packages (from shap) (0.51.2)\n",
            "Requirement already satisfied: cloudpickle in /usr/local/lib/python3.7/dist-packages (from shap) (1.3.0)\n",
            "Requirement already satisfied: numpy in /usr/local/lib/python3.7/dist-packages (from shap) (1.21.5)\n",
            "Requirement already satisfied: packaging>20.9 in /usr/local/lib/python3.7/dist-packages (from shap) (21.3)\n",
            "Requirement already satisfied: pyparsing!=3.0.5,>=2.0.2 in /usr/local/lib/python3.7/dist-packages (from packaging>20.9->shap) (3.0.7)\n",
            "Requirement already satisfied: setuptools in /usr/local/lib/python3.7/dist-packages (from numba->shap) (57.4.0)\n",
            "Requirement already satisfied: llvmlite<0.35,>=0.34.0.dev0 in /usr/local/lib/python3.7/dist-packages (from numba->shap) (0.34.0)\n",
            "Requirement already satisfied: python-dateutil>=2.7.3 in /usr/local/lib/python3.7/dist-packages (from pandas->shap) (2.8.2)\n",
            "Requirement already satisfied: pytz>=2017.3 in /usr/local/lib/python3.7/dist-packages (from pandas->shap) (2018.9)\n",
            "Requirement already satisfied: six>=1.5 in /usr/local/lib/python3.7/dist-packages (from python-dateutil>=2.7.3->pandas->shap) (1.15.0)\n",
            "Requirement already satisfied: threadpoolctl>=2.0.0 in /usr/local/lib/python3.7/dist-packages (from scikit-learn->shap) (3.1.0)\n",
            "Requirement already satisfied: joblib>=0.11 in /usr/local/lib/python3.7/dist-packages (from scikit-learn->shap) (1.1.0)\n",
            "Installing collected packages: slicer, shap\n",
            "Successfully installed shap-0.40.0 slicer-0.0.7\n"
          ]
        }
      ],
      "source": [
        "!pip install category_encoders\n",
        "!pip install shap"
      ]
    },
    {
      "cell_type": "code",
      "source": [
        "import pandas as pd\n",
        "import numpy as np\n",
        "import sklearn\n",
        "import xgboost\n",
        "import shap\n",
        "import re\n",
        "import matplotlib.pyplot as plt\n",
        "import seaborn as sns\n",
        "\n",
        "from tqdm import tqdm\n",
        "from category_encoders import TargetEncoder\n",
        "\n",
        "from sklearn.metrics import classification_report\n",
        "from sklearn.pipeline import make_pipeline\n",
        "from sklearn.metrics import accuracy_score\n",
        "from xgboost import XGBClassifier\n",
        "from sklearn.impute import SimpleImputer\n",
        "from category_encoders import OrdinalEncoder\n",
        "from sklearn.ensemble import RandomForestClassifier\n",
        "from sklearn.model_selection import train_test_split\n",
        "from sklearn.datasets import load_breast_cancer \n",
        "from tqdm import tqdm\n",
        "from sklearn.linear_model import LinearRegression, ElasticNet, Lasso, Ridge\n",
        "from sklearn.tree import DecisionTreeRegressor\n",
        "from sklearn.ensemble import RandomForestRegressor\n",
        "from sklearn.preprocessing import  LabelEncoder\n",
        "from sklearn.model_selection import TimeSeriesSplit\n",
        "from sklearn.metrics import mean_squared_error"
      ],
      "metadata": {
        "id": "A6uRy3y2Ui5O",
        "colab": {
          "base_uri": "https://localhost:8080/"
        },
        "outputId": "421a11d4-238d-4732-ebe4-21293135a767"
      },
      "execution_count": 4,
      "outputs": [
        {
          "output_type": "stream",
          "name": "stderr",
          "text": [
            "pandas.util.testing is deprecated. Use the functions in the public API at pandas.testing instead.\n"
          ]
        }
      ]
    },
    {
      "cell_type": "code",
      "source": [
        "from google.colab import drive\n",
        "drive.mount('/gdrive', force_remount=True)"
      ],
      "metadata": {
        "colab": {
          "base_uri": "https://localhost:8080/"
        },
        "id": "_jLXWDDoSAAh",
        "outputId": "0acfe07c-8e80-4b33-d65e-f963f5b4a28f"
      },
      "execution_count": 5,
      "outputs": [
        {
          "output_type": "stream",
          "name": "stdout",
          "text": [
            "Mounted at /gdrive\n"
          ]
        }
      ]
    },
    {
      "cell_type": "code",
      "source": [
        "train=pd.read_csv('/gdrive/MyDrive/AIBOOT_CAMP/Section2/seoul_realstate_daicon/train.csv')"
      ],
      "metadata": {
        "id": "iD4WhEEISBhB"
      },
      "execution_count": 6,
      "outputs": []
    },
    {
      "cell_type": "markdown",
      "source": [
        "아파트의 이름이 다양하여 같은 브랜드의 아파트임을 묶기 위해 \n",
        "아래와 같은 코드를 참조하여 사용하고 \n",
        "\n",
        "훈련과 테스트 데이터를 분리시켜주었다."
      ],
      "metadata": {
        "id": "SsiuCm-LZsib"
      }
    },
    {
      "cell_type": "code",
      "source": [
        "regex = \"\\(.*\\)|\\s-\\s.*\"\n",
        "for i in range(len(train)):\n",
        "   train.at[i, 'apt'] = re.sub(regex, '', train.at[i, 'apt'])\n",
        "train,test=train_test_split(train,train_size=0.8,test_size=0.2, random_state=42)"
      ],
      "metadata": {
        "id": "bGRqejd1SJlo"
      },
      "execution_count": 7,
      "outputs": []
    },
    {
      "cell_type": "code",
      "source": [
        "print(train.shape,test.shape)"
      ],
      "metadata": {
        "colab": {
          "base_uri": "https://localhost:8080/"
        },
        "id": "3MJd3ttQSMje",
        "outputId": "7f1f3f25-15ea-4148-a352-21affb9ceac2"
      },
      "execution_count": 8,
      "outputs": [
        {
          "output_type": "stream",
          "name": "stdout",
          "text": [
            "(973242, 13) (243311, 13)\n"
          ]
        }
      ]
    },
    {
      "cell_type": "markdown",
      "source": [
        "데이터의 크기가 약 백만개가량이 되는 것을 볼 수 있다.\n",
        "\n",
        "\n",
        "데이터의 모양과 결측치가 있는지 살펴보았다\n"
      ],
      "metadata": {
        "id": "ha1TZNDGZZhI"
      }
    },
    {
      "cell_type": "code",
      "source": [
        "train.head(3)"
      ],
      "metadata": {
        "colab": {
          "base_uri": "https://localhost:8080/",
          "height": 143
        },
        "id": "yJWeGqcmSPBg",
        "outputId": "da92bcf3-8d5e-426f-ad64-6fd316080661"
      },
      "execution_count": 9,
      "outputs": [
        {
          "output_type": "execute_result",
          "data": {
            "text/plain": [
              "        transaction_id  apartment_id   city dong  jibun      apt  \\\n",
              "110396          110396          9610  서울특별시  정릉동    239  정릉풍림아이원   \n",
              "997293          997293          9825  부산광역시  연산동   2220       주공   \n",
              "770780          770780           572  부산광역시  감만동  225-2   감만현대1차   \n",
              "\n",
              "                 addr_kr  exclusive_use_area  year_of_completion  \\\n",
              "110396   정릉동 239 정릉풍림아이원              114.75                2005   \n",
              "997293       연산동 2220 주공               69.08                1986   \n",
              "770780  감만동 225-2 감만현대1차               59.92                1996   \n",
              "\n",
              "        transaction_year_month transaction_date  floor  transaction_real_price  \n",
              "110396                  201105            11~20      6                   42000  \n",
              "997293                  200804            21~30      9                   16500  \n",
              "770780                  201003            21~31     19                    7520  "
            ],
            "text/html": [
              "\n",
              "  <div id=\"df-196113c4-9b25-4ac9-b036-52b0a981b6b6\">\n",
              "    <div class=\"colab-df-container\">\n",
              "      <div>\n",
              "<style scoped>\n",
              "    .dataframe tbody tr th:only-of-type {\n",
              "        vertical-align: middle;\n",
              "    }\n",
              "\n",
              "    .dataframe tbody tr th {\n",
              "        vertical-align: top;\n",
              "    }\n",
              "\n",
              "    .dataframe thead th {\n",
              "        text-align: right;\n",
              "    }\n",
              "</style>\n",
              "<table border=\"1\" class=\"dataframe\">\n",
              "  <thead>\n",
              "    <tr style=\"text-align: right;\">\n",
              "      <th></th>\n",
              "      <th>transaction_id</th>\n",
              "      <th>apartment_id</th>\n",
              "      <th>city</th>\n",
              "      <th>dong</th>\n",
              "      <th>jibun</th>\n",
              "      <th>apt</th>\n",
              "      <th>addr_kr</th>\n",
              "      <th>exclusive_use_area</th>\n",
              "      <th>year_of_completion</th>\n",
              "      <th>transaction_year_month</th>\n",
              "      <th>transaction_date</th>\n",
              "      <th>floor</th>\n",
              "      <th>transaction_real_price</th>\n",
              "    </tr>\n",
              "  </thead>\n",
              "  <tbody>\n",
              "    <tr>\n",
              "      <th>110396</th>\n",
              "      <td>110396</td>\n",
              "      <td>9610</td>\n",
              "      <td>서울특별시</td>\n",
              "      <td>정릉동</td>\n",
              "      <td>239</td>\n",
              "      <td>정릉풍림아이원</td>\n",
              "      <td>정릉동 239 정릉풍림아이원</td>\n",
              "      <td>114.75</td>\n",
              "      <td>2005</td>\n",
              "      <td>201105</td>\n",
              "      <td>11~20</td>\n",
              "      <td>6</td>\n",
              "      <td>42000</td>\n",
              "    </tr>\n",
              "    <tr>\n",
              "      <th>997293</th>\n",
              "      <td>997293</td>\n",
              "      <td>9825</td>\n",
              "      <td>부산광역시</td>\n",
              "      <td>연산동</td>\n",
              "      <td>2220</td>\n",
              "      <td>주공</td>\n",
              "      <td>연산동 2220 주공</td>\n",
              "      <td>69.08</td>\n",
              "      <td>1986</td>\n",
              "      <td>200804</td>\n",
              "      <td>21~30</td>\n",
              "      <td>9</td>\n",
              "      <td>16500</td>\n",
              "    </tr>\n",
              "    <tr>\n",
              "      <th>770780</th>\n",
              "      <td>770780</td>\n",
              "      <td>572</td>\n",
              "      <td>부산광역시</td>\n",
              "      <td>감만동</td>\n",
              "      <td>225-2</td>\n",
              "      <td>감만현대1차</td>\n",
              "      <td>감만동 225-2 감만현대1차</td>\n",
              "      <td>59.92</td>\n",
              "      <td>1996</td>\n",
              "      <td>201003</td>\n",
              "      <td>21~31</td>\n",
              "      <td>19</td>\n",
              "      <td>7520</td>\n",
              "    </tr>\n",
              "  </tbody>\n",
              "</table>\n",
              "</div>\n",
              "      <button class=\"colab-df-convert\" onclick=\"convertToInteractive('df-196113c4-9b25-4ac9-b036-52b0a981b6b6')\"\n",
              "              title=\"Convert this dataframe to an interactive table.\"\n",
              "              style=\"display:none;\">\n",
              "        \n",
              "  <svg xmlns=\"http://www.w3.org/2000/svg\" height=\"24px\"viewBox=\"0 0 24 24\"\n",
              "       width=\"24px\">\n",
              "    <path d=\"M0 0h24v24H0V0z\" fill=\"none\"/>\n",
              "    <path d=\"M18.56 5.44l.94 2.06.94-2.06 2.06-.94-2.06-.94-.94-2.06-.94 2.06-2.06.94zm-11 1L8.5 8.5l.94-2.06 2.06-.94-2.06-.94L8.5 2.5l-.94 2.06-2.06.94zm10 10l.94 2.06.94-2.06 2.06-.94-2.06-.94-.94-2.06-.94 2.06-2.06.94z\"/><path d=\"M17.41 7.96l-1.37-1.37c-.4-.4-.92-.59-1.43-.59-.52 0-1.04.2-1.43.59L10.3 9.45l-7.72 7.72c-.78.78-.78 2.05 0 2.83L4 21.41c.39.39.9.59 1.41.59.51 0 1.02-.2 1.41-.59l7.78-7.78 2.81-2.81c.8-.78.8-2.07 0-2.86zM5.41 20L4 18.59l7.72-7.72 1.47 1.35L5.41 20z\"/>\n",
              "  </svg>\n",
              "      </button>\n",
              "      \n",
              "  <style>\n",
              "    .colab-df-container {\n",
              "      display:flex;\n",
              "      flex-wrap:wrap;\n",
              "      gap: 12px;\n",
              "    }\n",
              "\n",
              "    .colab-df-convert {\n",
              "      background-color: #E8F0FE;\n",
              "      border: none;\n",
              "      border-radius: 50%;\n",
              "      cursor: pointer;\n",
              "      display: none;\n",
              "      fill: #1967D2;\n",
              "      height: 32px;\n",
              "      padding: 0 0 0 0;\n",
              "      width: 32px;\n",
              "    }\n",
              "\n",
              "    .colab-df-convert:hover {\n",
              "      background-color: #E2EBFA;\n",
              "      box-shadow: 0px 1px 2px rgba(60, 64, 67, 0.3), 0px 1px 3px 1px rgba(60, 64, 67, 0.15);\n",
              "      fill: #174EA6;\n",
              "    }\n",
              "\n",
              "    [theme=dark] .colab-df-convert {\n",
              "      background-color: #3B4455;\n",
              "      fill: #D2E3FC;\n",
              "    }\n",
              "\n",
              "    [theme=dark] .colab-df-convert:hover {\n",
              "      background-color: #434B5C;\n",
              "      box-shadow: 0px 1px 3px 1px rgba(0, 0, 0, 0.15);\n",
              "      filter: drop-shadow(0px 1px 2px rgba(0, 0, 0, 0.3));\n",
              "      fill: #FFFFFF;\n",
              "    }\n",
              "  </style>\n",
              "\n",
              "      <script>\n",
              "        const buttonEl =\n",
              "          document.querySelector('#df-196113c4-9b25-4ac9-b036-52b0a981b6b6 button.colab-df-convert');\n",
              "        buttonEl.style.display =\n",
              "          google.colab.kernel.accessAllowed ? 'block' : 'none';\n",
              "\n",
              "        async function convertToInteractive(key) {\n",
              "          const element = document.querySelector('#df-196113c4-9b25-4ac9-b036-52b0a981b6b6');\n",
              "          const dataTable =\n",
              "            await google.colab.kernel.invokeFunction('convertToInteractive',\n",
              "                                                     [key], {});\n",
              "          if (!dataTable) return;\n",
              "\n",
              "          const docLinkHtml = 'Like what you see? Visit the ' +\n",
              "            '<a target=\"_blank\" href=https://colab.research.google.com/notebooks/data_table.ipynb>data table notebook</a>'\n",
              "            + ' to learn more about interactive tables.';\n",
              "          element.innerHTML = '';\n",
              "          dataTable['output_type'] = 'display_data';\n",
              "          await google.colab.output.renderOutput(dataTable, element);\n",
              "          const docLink = document.createElement('div');\n",
              "          docLink.innerHTML = docLinkHtml;\n",
              "          element.appendChild(docLink);\n",
              "        }\n",
              "      </script>\n",
              "    </div>\n",
              "  </div>\n",
              "  "
            ]
          },
          "metadata": {},
          "execution_count": 9
        }
      ]
    },
    {
      "cell_type": "code",
      "source": [
        "train.isnull().sum()\n",
        "test.isnull().sum() #결측치가 없는 데이터"
      ],
      "metadata": {
        "colab": {
          "base_uri": "https://localhost:8080/"
        },
        "id": "xQvI96IwTpXY",
        "outputId": "c69ff505-c0cc-4457-be76-28847154b1e7"
      },
      "execution_count": 10,
      "outputs": [
        {
          "output_type": "execute_result",
          "data": {
            "text/plain": [
              "transaction_id            0\n",
              "apartment_id              0\n",
              "city                      0\n",
              "dong                      0\n",
              "jibun                     0\n",
              "apt                       0\n",
              "addr_kr                   0\n",
              "exclusive_use_area        0\n",
              "year_of_completion        0\n",
              "transaction_year_month    0\n",
              "transaction_date          0\n",
              "floor                     0\n",
              "transaction_real_price    0\n",
              "dtype: int64"
            ]
          },
          "metadata": {},
          "execution_count": 10
        }
      ]
    },
    {
      "cell_type": "markdown",
      "source": [
        "변수가 길어 매번 변수명을 치기 힘드니 이용하기 편한 변수로 변환해주고 타겟을 가격으로 맞춰주고 \n",
        "데이터의 분포를 살펴보자\n",
        "\n",
        "\n",
        "지번과 addr항목은 드롭해도 변수에 큰 영향을 줄 것 같지 않기에 제거해주도록 하겠다.\n"
      ],
      "metadata": {
        "id": "3GdIgVJSZSi3"
      }
    },
    {
      "cell_type": "code",
      "source": [
        "train.columns=['t_id','apt_id','city','dong','jibun','apt','addr','area','y_comple','t_y_m','t_d','flr','price']\n",
        "test.columns=['t_id','apt_id','city','dong','jibun','apt','addr','area','y_comple','t_y_m','t_d','flr','price']\n",
        "target='price'"
      ],
      "metadata": {
        "id": "qGY5Ce1jSRJg"
      },
      "execution_count": 11,
      "outputs": []
    },
    {
      "cell_type": "code",
      "source": [
        "train=train.drop(columns=['t_id','jibun','addr'],axis=1)\n",
        "test=test.drop(columns=['t_id','jibun','addr'],axis=1)"
      ],
      "metadata": {
        "id": "g8ifOFsDbtum"
      },
      "execution_count": 12,
      "outputs": []
    },
    {
      "cell_type": "markdown",
      "source": [
        "각 특성들이 타겟과 얼마나 관련있는지 간단히 확인해보기 위해 히트맵을 사용해보았다\n"
      ],
      "metadata": {
        "id": "dGo9Kb_vayzr"
      }
    },
    {
      "cell_type": "code",
      "source": [
        "k=train.shape[1]\n",
        "corrmat=train.corr()\n",
        "cols=corrmat.nlargest(k,target)[target].index\n",
        "cm=np.corrcoef(train[cols].values.T)\n",
        "f,ax=plt.subplots(figsize=(8,6))\n",
        "sns.heatmap(data=cm,annot=True,square=True,fmt='.2f',linewidths=5,cmap='Reds',yticklabels=cols.values,xticklabels=cols.values)\n",
        "#면적, 완공년도,"
      ],
      "metadata": {
        "colab": {
          "base_uri": "https://localhost:8080/",
          "height": 396
        },
        "id": "jyAR-m_wVXdP",
        "outputId": "e64d1540-9276-4797-a751-02e974d7c55e"
      },
      "execution_count": 13,
      "outputs": [
        {
          "output_type": "execute_result",
          "data": {
            "text/plain": [
              "<matplotlib.axes._subplots.AxesSubplot at 0x7f8edf102790>"
            ]
          },
          "metadata": {},
          "execution_count": 13
        },
        {
          "output_type": "display_data",
          "data": {
            "text/plain": [
              "<Figure size 576x432 with 2 Axes>"
            ],
            "image/png": "[encoded data removed]"
          },
          "metadata": {
            "needs_background": "light"
          }
        }
      ]
    },
    {
      "cell_type": "markdown",
      "source": [
        "동(주소)도 또한 가격에 영향을 주는 주요소일것 같으니 동을 숫자로 인코딩한후 후 다시 확인해보도록하자\n"
      ],
      "metadata": {
        "id": "kNApIxZFcLX-"
      }
    },
    {
      "cell_type": "code",
      "source": [
        "dong_price = train.groupby('dong')[target].agg('mean').sort_values(ascending=False)\n",
        "dong_price[:10]"
      ],
      "metadata": {
        "colab": {
          "base_uri": "https://localhost:8080/"
        },
        "id": "W44P7FF-ev-K",
        "outputId": "35c3b374-e5f4-4ac1-841f-abe5ef1f56c0"
      },
      "execution_count": 14,
      "outputs": [
        {
          "output_type": "execute_result",
          "data": {
            "text/plain": [
              "dong\n",
              "장충동1가     227714.285714\n",
              "압구정동      165088.203166\n",
              "청암동       158496.704545\n",
              "용산동5가     155520.043478\n",
              "회현동2가     139103.851064\n",
              "반포동       132829.375620\n",
              "한남동       123099.093704\n",
              "서빙고동      116254.976471\n",
              "대치동       116118.253380\n",
              "남대문로5가    111897.121212\n",
              "Name: price, dtype: float64"
            ]
          },
          "metadata": {},
          "execution_count": 14
        }
      ]
    },
    {
      "cell_type": "code",
      "source": [
        "for i, d in enumerate(dong_price.index):\n",
        "    train.loc[train['dong'] == d, 'dong'] = i\n",
        "    test.loc[test['dong'] == d, 'dong'] = i"
      ],
      "metadata": {
        "id": "JyDCf-vPfGQ-"
      },
      "execution_count": 15,
      "outputs": []
    },
    {
      "cell_type": "code",
      "source": [
        "train['dong']=pd.to_numeric(train['dong'])\n",
        "\n",
        "train.info()"
      ],
      "metadata": {
        "colab": {
          "base_uri": "https://localhost:8080/"
        },
        "id": "6isFbwGe-mKq",
        "outputId": "327dca8c-54a9-4d90-e1e6-29becf5c6e28"
      },
      "execution_count": 16,
      "outputs": [
        {
          "output_type": "stream",
          "name": "stdout",
          "text": [
            "<class 'pandas.core.frame.DataFrame'>\n",
            "Int64Index: 973242 entries, 110396 to 121958\n",
            "Data columns (total 10 columns):\n",
            " #   Column    Non-Null Count   Dtype  \n",
            "---  ------    --------------   -----  \n",
            " 0   apt_id    973242 non-null  int64  \n",
            " 1   city      973242 non-null  object \n",
            " 2   dong      973242 non-null  int64  \n",
            " 3   apt       973242 non-null  object \n",
            " 4   area      973242 non-null  float64\n",
            " 5   y_comple  973242 non-null  int64  \n",
            " 6   t_y_m     973242 non-null  int64  \n",
            " 7   t_d       973242 non-null  object \n",
            " 8   flr       973242 non-null  int64  \n",
            " 9   price     973242 non-null  int64  \n",
            "dtypes: float64(1), int64(6), object(3)\n",
            "memory usage: 81.7+ MB\n"
          ]
        }
      ]
    },
    {
      "cell_type": "code",
      "source": [
        "k=train.shape[1]\n",
        "corrmat=train.corr()\n",
        "cols=corrmat.nlargest(k,target)[target].index\n",
        "cm=np.corrcoef(train[cols].values.T)\n",
        "f,ax=plt.subplots(figsize=(8,6))\n",
        "sns.heatmap(data=cm,annot=True,square=True,fmt='.2f',linewidths=5,cmap='Reds',yticklabels=cols.values,xticklabels=cols.values)"
      ],
      "metadata": {
        "colab": {
          "base_uri": "https://localhost:8080/",
          "height": 396
        },
        "id": "_OYeuAqAayAZ",
        "outputId": "c4f66f84-c9ea-4b11-9907-875a2d4aa27d"
      },
      "execution_count": 17,
      "outputs": [
        {
          "output_type": "execute_result",
          "data": {
            "text/plain": [
              "<matplotlib.axes._subplots.AxesSubplot at 0x7f8edf073fd0>"
            ]
          },
          "metadata": {},
          "execution_count": 17
        },
        {
          "output_type": "display_data",
          "data": {
            "text/plain": [
              "<Figure size 576x432 with 2 Axes>"
            ],
            "image/png": "[encoded data removed]"
          },
          "metadata": {
            "needs_background": "light"
          }
        }
      ]
    },
    {
      "cell_type": "markdown",
      "source": [
        "area(면적)과 flr(층)이 지어진연도, 거래일이 최근이거나 넓을수록 가격에 관련이 있어 보이니 \n",
        "연관성을 보기 위해 표로 확인해보자.\n"
      ],
      "metadata": {
        "id": "XypfzHheV8GL"
      }
    },
    {
      "cell_type": "code",
      "source": [
        "f,ax=plt.subplots(figsize=(8,6))\n",
        "plt.scatter(train['flr'],train[target])\n",
        "plt.xlabel('floor')\n",
        "plt.ylabel('transaction_real_price')\n",
        "plt.show()"
      ],
      "metadata": {
        "id": "EAB7Q2VnkAIU",
        "colab": {
          "base_uri": "https://localhost:8080/",
          "height": 388
        },
        "outputId": "addad725-3fb7-42c4-bf38-bca5fc66c1ef"
      },
      "execution_count": 18,
      "outputs": [
        {
          "output_type": "display_data",
          "data": {
            "text/plain": [
              "<Figure size 576x432 with 1 Axes>"
            ],
            "image/png": "[encoded data removed]"
          },
          "metadata": {
            "needs_background": "light"
          }
        }
      ]
    },
    {
      "cell_type": "markdown",
      "source": [
        "큰 관련은 없어 보인다. \n",
        "그렇다면 area에 대해서도 확인해보자."
      ],
      "metadata": {
        "id": "IfEp3bI6XCi5"
      }
    },
    {
      "cell_type": "code",
      "source": [
        "f,ax=plt.subplots(figsize=(8,6))\n",
        "plt.scatter(train['area'],train[target])\n",
        "plt.xlabel('area')\n",
        "plt.ylabel('transaction_real_price')\n",
        "plt.show()"
      ],
      "metadata": {
        "colab": {
          "base_uri": "https://localhost:8080/",
          "height": 388
        },
        "id": "HsKW-0RqWeax",
        "outputId": "23461384-7e80-45b8-fc2d-28fecc4d1ebb"
      },
      "execution_count": 19,
      "outputs": [
        {
          "output_type": "display_data",
          "data": {
            "text/plain": [
              "<Figure size 576x432 with 1 Axes>"
            ],
            "image/png": "[encoded data removed]"
          },
          "metadata": {
            "needs_background": "light"
          }
        }
      ]
    },
    {
      "cell_type": "markdown",
      "source": [
        "area는 어느정도 연관성이 있는것을 확인해 볼 수가 있다.\n",
        "이번엔 건설일자의 연관도를 보겠다. "
      ],
      "metadata": {
        "id": "yMmzc4yaXS5r"
      }
    },
    {
      "cell_type": "code",
      "source": [
        "f,ax=plt.subplots(figsize=(8,6))\n",
        "plt.scatter(train['y_comple'],train[target])\n",
        "plt.xlabel('complement')\n",
        "plt.ylabel('transaction_real_price')\n",
        "plt.show()"
      ],
      "metadata": {
        "colab": {
          "base_uri": "https://localhost:8080/",
          "height": 388
        },
        "id": "M8rdQcmYXR23",
        "outputId": "d3a99597-c8ec-467c-ad13-0a4e8174989c"
      },
      "execution_count": 20,
      "outputs": [
        {
          "output_type": "display_data",
          "data": {
            "text/plain": [
              "<Figure size 576x432 with 1 Axes>"
            ],
            "image/png": "[encoded data removed]"
          },
          "metadata": {
            "needs_background": "light"
          }
        }
      ]
    },
    {
      "cell_type": "markdown",
      "source": [
        "건설일자도 최근일수록 가격과 관계가 있다는 것을 볼 수 있다.\n",
        "\n",
        "이번엔 아파트의 이름들을 묶어 보자"
      ],
      "metadata": {
        "id": "dcUSoZbffh3G"
      }
    },
    {
      "cell_type": "code",
      "source": [
        "train['apt'].value_counts()[:50]"
      ],
      "metadata": {
        "colab": {
          "base_uri": "https://localhost:8080/"
        },
        "id": "jzpeUuHngrpP",
        "outputId": "d7419d06-ee19-4d15-eff4-0de46b310af3"
      },
      "execution_count": 21,
      "outputs": [
        {
          "output_type": "execute_result",
          "data": {
            "text/plain": [
              "현대            14147\n",
              "한신             8162\n",
              "삼성             5373\n",
              "대우             5120\n",
              "신동아            5117\n",
              "두산             4681\n",
              "우성             4640\n",
              "주공2            4578\n",
              "삼성래미안          4418\n",
              "벽산             3716\n",
              "대림             3652\n",
              "동원로얄듀크         3565\n",
              "경남             3193\n",
              "삼환             3129\n",
              "극동             3057\n",
              "삼익             2889\n",
              "롯데캐슬           2869\n",
              "쌍용             2737\n",
              "코오롱            2649\n",
              "오륙도에스케이뷰       2584\n",
              "한양             2582\n",
              "성원             2502\n",
              "파크리오           2479\n",
              "청구             2368\n",
              "몰운대            2275\n",
              "동아             2214\n",
              "경남아너스빌         2138\n",
              "현대3            2083\n",
              "에스케이북한산시티      2052\n",
              "삼정그린코아         2050\n",
              "다대동롯데캐슬몰운대     2039\n",
              "대림e-편한세상       2038\n",
              "한진             2030\n",
              "주공5            1973\n",
              "현대1            1955\n",
              "미성             1936\n",
              "엘지메트로시티1       1907\n",
              "개금주공2          1855\n",
              "한일유앤아이         1849\n",
              "삼익비치           1847\n",
              "롯데낙천대          1828\n",
              "중앙하이츠          1828\n",
              "개포주공 1단지       1824\n",
              "사직쌍용예가         1814\n",
              "잠실엘스           1796\n",
              "리센츠            1792\n",
              "중계그린1단지        1743\n",
              "관악드림           1671\n",
              "선사현대아파트        1624\n",
              "롯데             1622\n",
              "Name: apt, dtype: int64"
            ]
          },
          "metadata": {},
          "execution_count": 21
        }
      ]
    },
    {
      "cell_type": "code",
      "source": [
        "apt_names=['현대','자이', '푸르지오', '더샵', '롯데캐슬|롯데', '이편한|e편한|e-편한,이-편한',\n",
        "         '힐스테이트|HILLSTATE', '아이파크', '래미안', 'sk|SK|에스케이', '데시앙','그레이스', '양지', '쌍용', '현대', '한신', '삼성', '대우', '신동아', '두산', '주공',\n",
        "             '우성', '벽산', '동원로얄듀크','경남', '삼환', '쌍용', '삼익', '대림', '코오롱', '파크리오',\n",
        "             '엘지', '성원', '잠실', '동궁리치웰', '동성']"
      ],
      "metadata": {
        "id": "W0CEV60FWolW"
      },
      "execution_count": 22,
      "outputs": []
    },
    {
      "cell_type": "code",
      "source": [
        "train['top10'] = 0\n",
        "test['top10'] = 0\n",
        "top10 = ['자이', '푸르지오', '더샵', '롯데캐슬', '이편한|e편한|e-편한',\n",
        "         '힐스테이트', '아이파크', '래미안', 'sk|SK|에스케이', '데시앙']\n",
        "\n",
        "train['apt'] = train['apt'].fillna('others')\n",
        "# top 10 시공사면 1, 아니면 0\n",
        "for i, brand in enumerate(top10):\n",
        "    train.loc[train['apt'].str.contains(brand), 'top10'] = 1\n",
        "    test.loc[test['apt'].str.contains(brand), 'top10'] = 1"
      ],
      "metadata": {
        "id": "2GeVCnvYnT8p"
      },
      "execution_count": 23,
      "outputs": []
    },
    {
      "cell_type": "code",
      "source": [
        "train.head(1)"
      ],
      "metadata": {
        "colab": {
          "base_uri": "https://localhost:8080/",
          "height": 81
        },
        "id": "RhVMA4asn1gW",
        "outputId": "65b19395-16d4-4a59-86b1-e13d5b0b6204"
      },
      "execution_count": 24,
      "outputs": [
        {
          "output_type": "execute_result",
          "data": {
            "text/plain": [
              "        apt_id   city  dong      apt    area  y_comple   t_y_m    t_d  flr  \\\n",
              "110396    9610  서울특별시   254  정릉풍림아이원  114.75      2005  201105  11~20    6   \n",
              "\n",
              "        price  top10  \n",
              "110396  42000      0  "
            ],
            "text/html": [
              "\n",
              "  <div id=\"df-7d9e5ba4-5aea-4d54-a65a-5767cabeab93\">\n",
              "    <div class=\"colab-df-container\">\n",
              "      <div>\n",
              "<style scoped>\n",
              "    .dataframe tbody tr th:only-of-type {\n",
              "        vertical-align: middle;\n",
              "    }\n",
              "\n",
              "    .dataframe tbody tr th {\n",
              "        vertical-align: top;\n",
              "    }\n",
              "\n",
              "    .dataframe thead th {\n",
              "        text-align: right;\n",
              "    }\n",
              "</style>\n",
              "<table border=\"1\" class=\"dataframe\">\n",
              "  <thead>\n",
              "    <tr style=\"text-align: right;\">\n",
              "      <th></th>\n",
              "      <th>apt_id</th>\n",
              "      <th>city</th>\n",
              "      <th>dong</th>\n",
              "      <th>apt</th>\n",
              "      <th>area</th>\n",
              "      <th>y_comple</th>\n",
              "      <th>t_y_m</th>\n",
              "      <th>t_d</th>\n",
              "      <th>flr</th>\n",
              "      <th>price</th>\n",
              "      <th>top10</th>\n",
              "    </tr>\n",
              "  </thead>\n",
              "  <tbody>\n",
              "    <tr>\n",
              "      <th>110396</th>\n",
              "      <td>9610</td>\n",
              "      <td>서울특별시</td>\n",
              "      <td>254</td>\n",
              "      <td>정릉풍림아이원</td>\n",
              "      <td>114.75</td>\n",
              "      <td>2005</td>\n",
              "      <td>201105</td>\n",
              "      <td>11~20</td>\n",
              "      <td>6</td>\n",
              "      <td>42000</td>\n",
              "      <td>0</td>\n",
              "    </tr>\n",
              "  </tbody>\n",
              "</table>\n",
              "</div>\n",
              "      <button class=\"colab-df-convert\" onclick=\"convertToInteractive('df-7d9e5ba4-5aea-4d54-a65a-5767cabeab93')\"\n",
              "              title=\"Convert this dataframe to an interactive table.\"\n",
              "              style=\"display:none;\">\n",
              "        \n",
              "  <svg xmlns=\"http://www.w3.org/2000/svg\" height=\"24px\"viewBox=\"0 0 24 24\"\n",
              "       width=\"24px\">\n",
              "    <path d=\"M0 0h24v24H0V0z\" fill=\"none\"/>\n",
              "    <path d=\"M18.56 5.44l.94 2.06.94-2.06 2.06-.94-2.06-.94-.94-2.06-.94 2.06-2.06.94zm-11 1L8.5 8.5l.94-2.06 2.06-.94-2.06-.94L8.5 2.5l-.94 2.06-2.06.94zm10 10l.94 2.06.94-2.06 2.06-.94-2.06-.94-.94-2.06-.94 2.06-2.06.94z\"/><path d=\"M17.41 7.96l-1.37-1.37c-.4-.4-.92-.59-1.43-.59-.52 0-1.04.2-1.43.59L10.3 9.45l-7.72 7.72c-.78.78-.78 2.05 0 2.83L4 21.41c.39.39.9.59 1.41.59.51 0 1.02-.2 1.41-.59l7.78-7.78 2.81-2.81c.8-.78.8-2.07 0-2.86zM5.41 20L4 18.59l7.72-7.72 1.47 1.35L5.41 20z\"/>\n",
              "  </svg>\n",
              "      </button>\n",
              "      \n",
              "  <style>\n",
              "    .colab-df-container {\n",
              "      display:flex;\n",
              "      flex-wrap:wrap;\n",
              "      gap: 12px;\n",
              "    }\n",
              "\n",
              "    .colab-df-convert {\n",
              "      background-color: #E8F0FE;\n",
              "      border: none;\n",
              "      border-radius: 50%;\n",
              "      cursor: pointer;\n",
              "      display: none;\n",
              "      fill: #1967D2;\n",
              "      height: 32px;\n",
              "      padding: 0 0 0 0;\n",
              "      width: 32px;\n",
              "    }\n",
              "\n",
              "    .colab-df-convert:hover {\n",
              "      background-color: #E2EBFA;\n",
              "      box-shadow: 0px 1px 2px rgba(60, 64, 67, 0.3), 0px 1px 3px 1px rgba(60, 64, 67, 0.15);\n",
              "      fill: #174EA6;\n",
              "    }\n",
              "\n",
              "    [theme=dark] .colab-df-convert {\n",
              "      background-color: #3B4455;\n",
              "      fill: #D2E3FC;\n",
              "    }\n",
              "\n",
              "    [theme=dark] .colab-df-convert:hover {\n",
              "      background-color: #434B5C;\n",
              "      box-shadow: 0px 1px 3px 1px rgba(0, 0, 0, 0.15);\n",
              "      filter: drop-shadow(0px 1px 2px rgba(0, 0, 0, 0.3));\n",
              "      fill: #FFFFFF;\n",
              "    }\n",
              "  </style>\n",
              "\n",
              "      <script>\n",
              "        const buttonEl =\n",
              "          document.querySelector('#df-7d9e5ba4-5aea-4d54-a65a-5767cabeab93 button.colab-df-convert');\n",
              "        buttonEl.style.display =\n",
              "          google.colab.kernel.accessAllowed ? 'block' : 'none';\n",
              "\n",
              "        async function convertToInteractive(key) {\n",
              "          const element = document.querySelector('#df-7d9e5ba4-5aea-4d54-a65a-5767cabeab93');\n",
              "          const dataTable =\n",
              "            await google.colab.kernel.invokeFunction('convertToInteractive',\n",
              "                                                     [key], {});\n",
              "          if (!dataTable) return;\n",
              "\n",
              "          const docLinkHtml = 'Like what you see? Visit the ' +\n",
              "            '<a target=\"_blank\" href=https://colab.research.google.com/notebooks/data_table.ipynb>data table notebook</a>'\n",
              "            + ' to learn more about interactive tables.';\n",
              "          element.innerHTML = '';\n",
              "          dataTable['output_type'] = 'display_data';\n",
              "          await google.colab.output.renderOutput(dataTable, element);\n",
              "          const docLink = document.createElement('div');\n",
              "          docLink.innerHTML = docLinkHtml;\n",
              "          element.appendChild(docLink);\n",
              "        }\n",
              "      </script>\n",
              "    </div>\n",
              "  </div>\n",
              "  "
            ]
          },
          "metadata": {},
          "execution_count": 24
        }
      ]
    },
    {
      "cell_type": "code",
      "source": [
        "# top 10 시공사 키워드와 25개 리스트를 통합\n",
        "apt_names_list = top10 + apt_names\n",
        "\n",
        "# `apt_names_list`의 키워드에 해당하는 아파트명이 있는지 여부를 나타내는 새로운 컬럼 생성\n",
        "train['transformed'] = False\n",
        "test['transformed'] = False\n",
        "\n",
        "# `apt_names_list`의 키워드에 아파트명이 포함되면 해당 키워드로 아파트명을 통일함\n",
        "# 그리고 `transformed` 컬럼값을 True로 변경\n",
        "for a in apt_names_list:\n",
        "    train.loc[train['apt'].str.contains(a), 'apt'] = a\n",
        "    test.loc[test['apt'].str.contains(a), 'apt'] = a\n",
        "    train.loc[train['apt'].str.contains(a), 'transformed'] = True\n",
        "    test.loc[test['apt'].str.contains(a), 'transformed'] = True\n",
        "\n",
        "# 아파트 이름이 변경되지 않았을 경우(`transformed=False` 일 경우) 아파트명을 'others'로 변경\n",
        "for a in apt_names:\n",
        "    train.loc[~train['transformed'], 'apt'] = 'others'\n",
        "    test.loc[~test['transformed'] , 'apt'] = 'others'"
      ],
      "metadata": {
        "id": "W7giA8dDdH6V"
      },
      "execution_count": 25,
      "outputs": []
    },
    {
      "cell_type": "code",
      "source": [
        "\"\"\"\n",
        "# top 10 시공사 키워드와 25개 리스트를 통합\n",
        "apt_names_list = top10 + apt_names\n",
        "\n",
        "# `apt_names_list`의 키워드에 해당하는 아파트명이 있는지 여부를 나타내는 새로운 컬럼 생성\n",
        "train['transformed'] = False\n",
        "test['transformed'] = False\n",
        "\n",
        "# `apt_names_list`의 키워드에 아파트명이 포함되면 해당 키워드로 아파트명을 통일함\n",
        "# 그리고 `transformed` 컬럼값을 True로 변경\n",
        "for a in tqdm(apt_names_list):\n",
        "    train.loc[train['apt'].str.contains(a), 'apt'] = a\n",
        "    test.loc[test['apt'].str.contains(a), 'apt'] = a\n",
        "    train.loc[train['apt'].str.contains(a), 'transformed'] = True\n",
        "    test.loc[test['apt'].str.contains(a), 'transformed'] = True\n",
        "\n",
        "# 아파트 이름이 변경되지 않았을 경우(`transformed=False` 일 경우) 아파트명을 'others'로 변경\n",
        "for a in tqdm(apt_names):\n",
        "    train.loc[~train['transformed'], 'apt'] = 'others'\n",
        "    test.loc[~test['transformed'] , 'apt'] = 'others'\n",
        "\"\"\""
      ],
      "metadata": {
        "colab": {
          "base_uri": "https://localhost:8080/",
          "height": 87
        },
        "id": "QnV5yQPaiq3E",
        "outputId": "8c7d2399-b99c-43c1-cd40-11137c0a9310"
      },
      "execution_count": 26,
      "outputs": [
        {
          "output_type": "execute_result",
          "data": {
            "text/plain": [
              "\"\\n# top 10 시공사 키워드와 25개 리스트를 통합\\napt_names_list = top10 + apt_names\\n\\n# `apt_names_list`의 키워드에 해당하는 아파트명이 있는지 여부를 나타내는 새로운 컬럼 생성\\ntrain['transformed'] = False\\ntest['transformed'] = False\\n\\n# `apt_names_list`의 키워드에 아파트명이 포함되면 해당 키워드로 아파트명을 통일함\\n# 그리고 `transformed` 컬럼값을 True로 변경\\nfor a in tqdm(apt_names_list):\\n    train.loc[train['apt'].str.contains(a), 'apt'] = a\\n    test.loc[test['apt'].str.contains(a), 'apt'] = a\\n    train.loc[train['apt'].str.contains(a), 'transformed'] = True\\n    test.loc[test['apt'].str.contains(a), 'transformed'] = True\\n\\n# 아파트 이름이 변경되지 않았을 경우(`transformed=False` 일 경우) 아파트명을 'others'로 변경\\nfor a in tqdm(apt_names):\\n    train.loc[~train['transformed'], 'apt'] = 'others'\\n    test.loc[~test['transformed'] , 'apt'] = 'others'\\n\""
            ],
            "application/vnd.google.colaboratory.intrinsic+json": {
              "type": "string"
            }
          },
          "metadata": {},
          "execution_count": 26
        }
      ]
    },
    {
      "cell_type": "code",
      "source": [
        "print(train['apt'].nunique(), test['apt'].nunique())"
      ],
      "metadata": {
        "colab": {
          "base_uri": "https://localhost:8080/"
        },
        "id": "3vQlQQQUjt1_",
        "outputId": "8fd74c23-8298-473f-b11b-38eac512a4a0"
      },
      "execution_count": 27,
      "outputs": [
        {
          "output_type": "stream",
          "name": "stdout",
          "text": [
            "35 35\n"
          ]
        }
      ]
    },
    {
      "cell_type": "code",
      "source": [
        "train['apt'].value_counts()"
      ],
      "metadata": {
        "colab": {
          "base_uri": "https://localhost:8080/"
        },
        "id": "l5Mt_LwdkObb",
        "outputId": "5d5fc01b-6af7-4f8e-b799-7979b77cb426"
      },
      "execution_count": 28,
      "outputs": [
        {
          "output_type": "execute_result",
          "data": {
            "text/plain": [
              "others               515911\n",
              "현대                    65576\n",
              "주공                    52668\n",
              "롯데캐슬|롯데               26700\n",
              "래미안                   26235\n",
              "한신                    22054\n",
              "벽산                    21572\n",
              "우성                    19453\n",
              "삼성                    15880\n",
              "sk|SK|에스케이            15796\n",
              "두산                    15594\n",
              "삼익                    14981\n",
              "푸르지오                  14734\n",
              "쌍용                    14548\n",
              "대림                    14517\n",
              "대우                    14227\n",
              "이편한|e편한|e-편한,이-편한     11404\n",
              "신동아                   11269\n",
              "힐스테이트|HILLSTATE        9554\n",
              "자이                     9292\n",
              "엘지                     8753\n",
              "경남                     8704\n",
              "코오롱                    6880\n",
              "아이파크                   6407\n",
              "성원                     6098\n",
              "더샵                     5524\n",
              "동원로얄듀크                 4859\n",
              "삼환                     4853\n",
              "파크리오                   2479\n",
              "잠실                     2076\n",
              "데시앙                    1797\n",
              "동성                     1759\n",
              "양지                      839\n",
              "그레이스                    174\n",
              "동궁리치웰                    75\n",
              "Name: apt, dtype: int64"
            ]
          },
          "metadata": {},
          "execution_count": 28
        }
      ]
    },
    {
      "cell_type": "code",
      "source": [
        "train.reset_index(drop=True)\n"
      ],
      "metadata": {
        "colab": {
          "base_uri": "https://localhost:8080/",
          "height": 424
        },
        "id": "grlISbDs9oLt",
        "outputId": "2a29fa77-44ea-4915-91b4-059fbad5686a"
      },
      "execution_count": 29,
      "outputs": [
        {
          "output_type": "execute_result",
          "data": {
            "text/plain": [
              "        apt_id   city  dong         apt      area  y_comple   t_y_m    t_d  \\\n",
              "0         9610  서울특별시   254      others  114.7500      2005  201105  11~20   \n",
              "1         9825  부산광역시   339          주공   69.0800      1986  200804  21~30   \n",
              "2          572  부산광역시   441          현대   59.9200      1996  201003  21~31   \n",
              "3         5176  부산광역시   425          더샵   84.9056      2004  200908   1~10   \n",
              "4         2700  부산광역시   351        푸르지오   73.1300      2005  201505  11~20   \n",
              "...        ...    ...   ...         ...       ...       ...     ...    ...   \n",
              "973237    8884  서울특별시   165         래미안  114.9300      2007  201104   1~10   \n",
              "973238    2023  서울특별시   221          현대  117.3500      2001  201601  11~20   \n",
              "973239    9604  서울특별시   254          성원   59.9400      2000  201608   1~10   \n",
              "973240    2968  부산광역시   451      others   62.2800      1989  201301  11~20   \n",
              "973241    9782  서울특별시   180  sk|SK|에스케이   84.7200      1999  201410  21~31   \n",
              "\n",
              "        flr  price  top10  transformed  \n",
              "0         6  42000      0        False  \n",
              "1         9  16500      0         True  \n",
              "2        19   7520      0         True  \n",
              "3        13  16400      1         True  \n",
              "4        10  34500      1         True  \n",
              "...     ...    ...    ...          ...  \n",
              "973237    9  67000      1         True  \n",
              "973238    2  46000      0         True  \n",
              "973239   11  26300      0         True  \n",
              "973240    4   8100      0        False  \n",
              "973241    4  33100      1         True  \n",
              "\n",
              "[973242 rows x 12 columns]"
            ],
            "text/html": [
              "\n",
              "  <div id=\"df-df78b80b-3447-4dfe-a67f-3807885da89c\">\n",
              "    <div class=\"colab-df-container\">\n",
              "      <div>\n",
              "<style scoped>\n",
              "    .dataframe tbody tr th:only-of-type {\n",
              "        vertical-align: middle;\n",
              "    }\n",
              "\n",
              "    .dataframe tbody tr th {\n",
              "        vertical-align: top;\n",
              "    }\n",
              "\n",
              "    .dataframe thead th {\n",
              "        text-align: right;\n",
              "    }\n",
              "</style>\n",
              "<table border=\"1\" class=\"dataframe\">\n",
              "  <thead>\n",
              "    <tr style=\"text-align: right;\">\n",
              "      <th></th>\n",
              "      <th>apt_id</th>\n",
              "      <th>city</th>\n",
              "      <th>dong</th>\n",
              "      <th>apt</th>\n",
              "      <th>area</th>\n",
              "      <th>y_comple</th>\n",
              "      <th>t_y_m</th>\n",
              "      <th>t_d</th>\n",
              "      <th>flr</th>\n",
              "      <th>price</th>\n",
              "      <th>top10</th>\n",
              "      <th>transformed</th>\n",
              "    </tr>\n",
              "  </thead>\n",
              "  <tbody>\n",
              "    <tr>\n",
              "      <th>0</th>\n",
              "      <td>9610</td>\n",
              "      <td>서울특별시</td>\n",
              "      <td>254</td>\n",
              "      <td>others</td>\n",
              "      <td>114.7500</td>\n",
              "      <td>2005</td>\n",
              "      <td>201105</td>\n",
              "      <td>11~20</td>\n",
              "      <td>6</td>\n",
              "      <td>42000</td>\n",
              "      <td>0</td>\n",
              "      <td>False</td>\n",
              "    </tr>\n",
              "    <tr>\n",
              "      <th>1</th>\n",
              "      <td>9825</td>\n",
              "      <td>부산광역시</td>\n",
              "      <td>339</td>\n",
              "      <td>주공</td>\n",
              "      <td>69.0800</td>\n",
              "      <td>1986</td>\n",
              "      <td>200804</td>\n",
              "      <td>21~30</td>\n",
              "      <td>9</td>\n",
              "      <td>16500</td>\n",
              "      <td>0</td>\n",
              "      <td>True</td>\n",
              "    </tr>\n",
              "    <tr>\n",
              "      <th>2</th>\n",
              "      <td>572</td>\n",
              "      <td>부산광역시</td>\n",
              "      <td>441</td>\n",
              "      <td>현대</td>\n",
              "      <td>59.9200</td>\n",
              "      <td>1996</td>\n",
              "      <td>201003</td>\n",
              "      <td>21~31</td>\n",
              "      <td>19</td>\n",
              "      <td>7520</td>\n",
              "      <td>0</td>\n",
              "      <td>True</td>\n",
              "    </tr>\n",
              "    <tr>\n",
              "      <th>3</th>\n",
              "      <td>5176</td>\n",
              "      <td>부산광역시</td>\n",
              "      <td>425</td>\n",
              "      <td>더샵</td>\n",
              "      <td>84.9056</td>\n",
              "      <td>2004</td>\n",
              "      <td>200908</td>\n",
              "      <td>1~10</td>\n",
              "      <td>13</td>\n",
              "      <td>16400</td>\n",
              "      <td>1</td>\n",
              "      <td>True</td>\n",
              "    </tr>\n",
              "    <tr>\n",
              "      <th>4</th>\n",
              "      <td>2700</td>\n",
              "      <td>부산광역시</td>\n",
              "      <td>351</td>\n",
              "      <td>푸르지오</td>\n",
              "      <td>73.1300</td>\n",
              "      <td>2005</td>\n",
              "      <td>201505</td>\n",
              "      <td>11~20</td>\n",
              "      <td>10</td>\n",
              "      <td>34500</td>\n",
              "      <td>1</td>\n",
              "      <td>True</td>\n",
              "    </tr>\n",
              "    <tr>\n",
              "      <th>...</th>\n",
              "      <td>...</td>\n",
              "      <td>...</td>\n",
              "      <td>...</td>\n",
              "      <td>...</td>\n",
              "      <td>...</td>\n",
              "      <td>...</td>\n",
              "      <td>...</td>\n",
              "      <td>...</td>\n",
              "      <td>...</td>\n",
              "      <td>...</td>\n",
              "      <td>...</td>\n",
              "      <td>...</td>\n",
              "    </tr>\n",
              "    <tr>\n",
              "      <th>973237</th>\n",
              "      <td>8884</td>\n",
              "      <td>서울특별시</td>\n",
              "      <td>165</td>\n",
              "      <td>래미안</td>\n",
              "      <td>114.9300</td>\n",
              "      <td>2007</td>\n",
              "      <td>201104</td>\n",
              "      <td>1~10</td>\n",
              "      <td>9</td>\n",
              "      <td>67000</td>\n",
              "      <td>1</td>\n",
              "      <td>True</td>\n",
              "    </tr>\n",
              "    <tr>\n",
              "      <th>973238</th>\n",
              "      <td>2023</td>\n",
              "      <td>서울특별시</td>\n",
              "      <td>221</td>\n",
              "      <td>현대</td>\n",
              "      <td>117.3500</td>\n",
              "      <td>2001</td>\n",
              "      <td>201601</td>\n",
              "      <td>11~20</td>\n",
              "      <td>2</td>\n",
              "      <td>46000</td>\n",
              "      <td>0</td>\n",
              "      <td>True</td>\n",
              "    </tr>\n",
              "    <tr>\n",
              "      <th>973239</th>\n",
              "      <td>9604</td>\n",
              "      <td>서울특별시</td>\n",
              "      <td>254</td>\n",
              "      <td>성원</td>\n",
              "      <td>59.9400</td>\n",
              "      <td>2000</td>\n",
              "      <td>201608</td>\n",
              "      <td>1~10</td>\n",
              "      <td>11</td>\n",
              "      <td>26300</td>\n",
              "      <td>0</td>\n",
              "      <td>True</td>\n",
              "    </tr>\n",
              "    <tr>\n",
              "      <th>973240</th>\n",
              "      <td>2968</td>\n",
              "      <td>부산광역시</td>\n",
              "      <td>451</td>\n",
              "      <td>others</td>\n",
              "      <td>62.2800</td>\n",
              "      <td>1989</td>\n",
              "      <td>201301</td>\n",
              "      <td>11~20</td>\n",
              "      <td>4</td>\n",
              "      <td>8100</td>\n",
              "      <td>0</td>\n",
              "      <td>False</td>\n",
              "    </tr>\n",
              "    <tr>\n",
              "      <th>973241</th>\n",
              "      <td>9782</td>\n",
              "      <td>서울특별시</td>\n",
              "      <td>180</td>\n",
              "      <td>sk|SK|에스케이</td>\n",
              "      <td>84.7200</td>\n",
              "      <td>1999</td>\n",
              "      <td>201410</td>\n",
              "      <td>21~31</td>\n",
              "      <td>4</td>\n",
              "      <td>33100</td>\n",
              "      <td>1</td>\n",
              "      <td>True</td>\n",
              "    </tr>\n",
              "  </tbody>\n",
              "</table>\n",
              "<p>973242 rows × 12 columns</p>\n",
              "</div>\n",
              "      <button class=\"colab-df-convert\" onclick=\"convertToInteractive('df-df78b80b-3447-4dfe-a67f-3807885da89c')\"\n",
              "              title=\"Convert this dataframe to an interactive table.\"\n",
              "              style=\"display:none;\">\n",
              "        \n",
              "  <svg xmlns=\"http://www.w3.org/2000/svg\" height=\"24px\"viewBox=\"0 0 24 24\"\n",
              "       width=\"24px\">\n",
              "    <path d=\"M0 0h24v24H0V0z\" fill=\"none\"/>\n",
              "    <path d=\"M18.56 5.44l.94 2.06.94-2.06 2.06-.94-2.06-.94-.94-2.06-.94 2.06-2.06.94zm-11 1L8.5 8.5l.94-2.06 2.06-.94-2.06-.94L8.5 2.5l-.94 2.06-2.06.94zm10 10l.94 2.06.94-2.06 2.06-.94-2.06-.94-.94-2.06-.94 2.06-2.06.94z\"/><path d=\"M17.41 7.96l-1.37-1.37c-.4-.4-.92-.59-1.43-.59-.52 0-1.04.2-1.43.59L10.3 9.45l-7.72 7.72c-.78.78-.78 2.05 0 2.83L4 21.41c.39.39.9.59 1.41.59.51 0 1.02-.2 1.41-.59l7.78-7.78 2.81-2.81c.8-.78.8-2.07 0-2.86zM5.41 20L4 18.59l7.72-7.72 1.47 1.35L5.41 20z\"/>\n",
              "  </svg>\n",
              "      </button>\n",
              "      \n",
              "  <style>\n",
              "    .colab-df-container {\n",
              "      display:flex;\n",
              "      flex-wrap:wrap;\n",
              "      gap: 12px;\n",
              "    }\n",
              "\n",
              "    .colab-df-convert {\n",
              "      background-color: #E8F0FE;\n",
              "      border: none;\n",
              "      border-radius: 50%;\n",
              "      cursor: pointer;\n",
              "      display: none;\n",
              "      fill: #1967D2;\n",
              "      height: 32px;\n",
              "      padding: 0 0 0 0;\n",
              "      width: 32px;\n",
              "    }\n",
              "\n",
              "    .colab-df-convert:hover {\n",
              "      background-color: #E2EBFA;\n",
              "      box-shadow: 0px 1px 2px rgba(60, 64, 67, 0.3), 0px 1px 3px 1px rgba(60, 64, 67, 0.15);\n",
              "      fill: #174EA6;\n",
              "    }\n",
              "\n",
              "    [theme=dark] .colab-df-convert {\n",
              "      background-color: #3B4455;\n",
              "      fill: #D2E3FC;\n",
              "    }\n",
              "\n",
              "    [theme=dark] .colab-df-convert:hover {\n",
              "      background-color: #434B5C;\n",
              "      box-shadow: 0px 1px 3px 1px rgba(0, 0, 0, 0.15);\n",
              "      filter: drop-shadow(0px 1px 2px rgba(0, 0, 0, 0.3));\n",
              "      fill: #FFFFFF;\n",
              "    }\n",
              "  </style>\n",
              "\n",
              "      <script>\n",
              "        const buttonEl =\n",
              "          document.querySelector('#df-df78b80b-3447-4dfe-a67f-3807885da89c button.colab-df-convert');\n",
              "        buttonEl.style.display =\n",
              "          google.colab.kernel.accessAllowed ? 'block' : 'none';\n",
              "\n",
              "        async function convertToInteractive(key) {\n",
              "          const element = document.querySelector('#df-df78b80b-3447-4dfe-a67f-3807885da89c');\n",
              "          const dataTable =\n",
              "            await google.colab.kernel.invokeFunction('convertToInteractive',\n",
              "                                                     [key], {});\n",
              "          if (!dataTable) return;\n",
              "\n",
              "          const docLinkHtml = 'Like what you see? Visit the ' +\n",
              "            '<a target=\"_blank\" href=https://colab.research.google.com/notebooks/data_table.ipynb>data table notebook</a>'\n",
              "            + ' to learn more about interactive tables.';\n",
              "          element.innerHTML = '';\n",
              "          dataTable['output_type'] = 'display_data';\n",
              "          await google.colab.output.renderOutput(dataTable, element);\n",
              "          const docLink = document.createElement('div');\n",
              "          docLink.innerHTML = docLinkHtml;\n",
              "          element.appendChild(docLink);\n",
              "        }\n",
              "      </script>\n",
              "    </div>\n",
              "  </div>\n",
              "  "
            ]
          },
          "metadata": {},
          "execution_count": 29
        }
      ]
    },
    {
      "cell_type": "code",
      "source": [
        "apt_price=train.groupby('apt')[target].agg('mean').sort_values(ascending=False)\n"
      ],
      "metadata": {
        "id": "UQGtq7mbxdpE"
      },
      "execution_count": 32,
      "outputs": []
    },
    {
      "cell_type": "code",
      "source": [
        "apt_price"
      ],
      "metadata": {
        "colab": {
          "base_uri": "https://localhost:8080/"
        },
        "id": "YsmppRAz8ozH",
        "outputId": "1be3a68a-bb5b-4d4c-8adb-6135f35392d8"
      },
      "execution_count": 33,
      "outputs": [
        {
          "output_type": "execute_result",
          "data": {
            "text/plain": [
              "apt\n",
              "잠실                   91611.853083\n",
              "파크리오                 88638.643405\n",
              "자이                   79967.694468\n",
              "래미안                  64045.256489\n",
              "아이파크                 62867.906821\n",
              "더샵                   59157.771723\n",
              "힐스테이트|HILLSTATE      58173.063220\n",
              "이편한|e편한|e-편한,이-편한    53182.331024\n",
              "푸르지오                 49618.492195\n",
              "동궁리치웰                48034.000000\n",
              "데시앙                  46371.571508\n",
              "우성                   44945.608081\n",
              "롯데캐슬|롯데              43001.781835\n",
              "삼성                   42320.782053\n",
              "두산                   41889.913621\n",
              "현대                   41710.588843\n",
              "신동아                  39974.558790\n",
              "경남                   39895.601792\n",
              "쌍용                   38405.704083\n",
              "대림                   37844.935179\n",
              "양지                   37227.485101\n",
              "삼익                   36123.910220\n",
              "성원                   35777.378649\n",
              "others               34770.906193\n",
              "주공                   33947.006133\n",
              "한신                   33823.926181\n",
              "코오롱                  33776.993459\n",
              "sk|SK|에스케이           33404.358319\n",
              "대우                   32694.401420\n",
              "그레이스                 31504.137931\n",
              "동성                   31489.733371\n",
              "삼환                   31438.621677\n",
              "벽산                   28836.735583\n",
              "엘지                   26250.701474\n",
              "동원로얄듀크               21729.880016\n",
              "Name: price, dtype: float64"
            ]
          },
          "metadata": {},
          "execution_count": 33
        }
      ]
    },
    {
      "cell_type": "code",
      "source": [
        ""
      ],
      "metadata": {
        "id": "P2A-yscept1e"
      },
      "execution_count": null,
      "outputs": []
    }
  ]
}